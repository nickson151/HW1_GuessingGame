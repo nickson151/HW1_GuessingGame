{
  "nbformat": 4,
  "nbformat_minor": 0,
  "metadata": {
    "colab": {
      "provenance": [],
      "authorship_tag": "ABX9TyMfkIsNi32PHYIB8rrCZXOk",
      "include_colab_link": true
    },
    "kernelspec": {
      "name": "python3",
      "display_name": "Python 3"
    },
    "language_info": {
      "name": "python"
    }
  },
  "cells": [
    {
      "cell_type": "markdown",
      "metadata": {
        "id": "view-in-github",
        "colab_type": "text"
      },
      "source": [
        "<a href=\"https://colab.research.google.com/github/nickson151/HW1_GuessingGame/blob/master/Machine_learning_FIRST.ipynb\" target=\"_parent\"><img src=\"https://colab.research.google.com/assets/colab-badge.svg\" alt=\"Open In Colab\"/></a>"
      ]
    },
    {
      "cell_type": "code",
      "execution_count": 32,
      "metadata": {
        "colab": {
          "base_uri": "https://localhost:8080/"
        },
        "id": "pxKmuXHqVIWf",
        "outputId": "fe457b0c-7631-4ed9-dddb-3c87bdce7dd0"
      },
      "outputs": [
        {
          "output_type": "stream",
          "name": "stdout",
          "text": [
            "Requirement already satisfied: scikit-learn in /usr/local/lib/python3.10/dist-packages (1.2.2)\n",
            "Requirement already satisfied: numpy>=1.17.3 in /usr/local/lib/python3.10/dist-packages (from scikit-learn) (1.23.5)\n",
            "Requirement already satisfied: scipy>=1.3.2 in /usr/local/lib/python3.10/dist-packages (from scikit-learn) (1.10.1)\n",
            "Requirement already satisfied: joblib>=1.1.1 in /usr/local/lib/python3.10/dist-packages (from scikit-learn) (1.3.2)\n",
            "Requirement already satisfied: threadpoolctl>=2.0.0 in /usr/local/lib/python3.10/dist-packages (from scikit-learn) (3.2.0)\n"
          ]
        }
      ],
      "source": [
        "pip install scikit-learn"
      ]
    },
    {
      "cell_type": "code",
      "source": [
        "import sklearn as skl\n",
        "print(skl.__version__)"
      ],
      "metadata": {
        "colab": {
          "base_uri": "https://localhost:8080/"
        },
        "id": "Upa5ub2QX266",
        "outputId": "10cf87d3-ff33-451c-90ca-990c3bfec69d"
      },
      "execution_count": 33,
      "outputs": [
        {
          "output_type": "stream",
          "name": "stdout",
          "text": [
            "1.2.2\n"
          ]
        }
      ]
    },
    {
      "cell_type": "code",
      "source": [
        "# Importamos el datasetm\n",
        "import sklearn.datasets\n",
        "dataset = sklearn.datasets.load_iris()"
      ],
      "metadata": {
        "id": "AXHobM3BX6PY"
      },
      "execution_count": 34,
      "outputs": []
    },
    {
      "cell_type": "code",
      "source": [
        "from sklearn.model_selection import train_test_split\n",
        "\n",
        "# Renombramos los valores para que X sean los atributos e Y sean las respuestas del sistema\n",
        "X = dataset.data\n",
        "y = dataset.target\n",
        "\n",
        "# Realizamos la partición de nuestro dataset en un conjunto de entrenamiento y otro de test (20%)\n",
        "X_train, X_test, y_train, y_test = train_test_split(X, y, test_size=0.2, random_state=42)"
      ],
      "metadata": {
        "id": "MxzlaHXCYBq-"
      },
      "execution_count": 35,
      "outputs": []
    },
    {
      "cell_type": "code",
      "source": [
        "from sklearn.svm import SVC\n",
        "\n",
        "# Creamos el clasificador SVM lineal\n",
        "classifier =  SVC(kernel=\"linear\", C=0.025)\n",
        "\n",
        "# Realizamos el entrenamiento\n",
        "classifier.fit(X_train, y_train)\n",
        "\n",
        "# Obtenemos el accuracy de nuestro modelo para el conjunto de test\n",
        "print(classifier.score(X_test, y_test))"
      ],
      "metadata": {
        "colab": {
          "base_uri": "https://localhost:8080/"
        },
        "id": "-AYxbCVLYGMG",
        "outputId": "c8b3dbc1-2716-4f8d-8c45-1d468cb7dd6f"
      },
      "execution_count": 36,
      "outputs": [
        {
          "output_type": "stream",
          "name": "stdout",
          "text": [
            "0.9666666666666667\n"
          ]
        }
      ]
    },
    {
      "cell_type": "code",
      "source": [
        "# Importamos la función de entrenamiento y validación cruzada\n",
        "from sklearn.model_selection import cross_val_score\n",
        "nScores = cross_val_score(classifier, X, y, cv=10)\n",
        "# Nos devuelve un array de tipo Numpy. Podemos usar el método mean para obtener la media de los valores devueltos\n",
        "nScores.mean()"
      ],
      "metadata": {
        "colab": {
          "base_uri": "https://localhost:8080/"
        },
        "id": "lPbb8763YN8c",
        "outputId": "75f587d8-dabd-49c9-9efe-7daf75c0e1c7"
      },
      "execution_count": 37,
      "outputs": [
        {
          "output_type": "execute_result",
          "data": {
            "text/plain": [
              "0.9400000000000001"
            ]
          },
          "metadata": {},
          "execution_count": 37
        }
      ]
    },
    {
      "cell_type": "markdown",
      "source": [
        "el comando Ctrl + M = describe que es lo que hace la porcion del código,\n"
      ],
      "metadata": {
        "id": "ZO9rfSHFa1bD"
      }
    },
    {
      "cell_type": "markdown",
      "source": [
        "el comando crtl + M z = retrocede el paso"
      ],
      "metadata": {
        "id": "x8BNkZVCbKkk"
      }
    },
    {
      "cell_type": "markdown",
      "source": [
        "el cross_val_score = entrega un cruzado de testeo de la informacion ingresada"
      ],
      "metadata": {
        "id": "JE4IFsg2aB4X"
      }
    },
    {
      "cell_type": "markdown",
      "source": [
        "interrumpir cualquier ejecución lanzada (Ctrl+M I),"
      ],
      "metadata": {
        "id": "ayqAKoEUbWjP"
      }
    },
    {
      "cell_type": "markdown",
      "source": [
        "Ctrl+F9 para ejecutar todo el cuaderno, Ctrl+F8 para ejecutar las celdas anteriores,"
      ],
      "metadata": {
        "id": "KSs2TK_6bb45"
      }
    },
    {
      "cell_type": "markdown",
      "source": [
        "Ctrl+F10 para ejecutar la siguiente celda."
      ],
      "metadata": {
        "id": "y__dC-7IbsMc"
      }
    },
    {
      "cell_type": "markdown",
      "source": [
        "          El siguiente, codigo se conecta a una GPU de google, si arroja error entonces no se pudo conectar"
      ],
      "metadata": {
        "id": "-fsZco7odOJN"
      }
    },
    {
      "cell_type": "code",
      "source": [
        "\n",
        "import tensorflow as tf\n",
        "device_name = tf.test.gpu_device_name()\n",
        "if device_name != '/device:GPU:0':\n",
        "  raise SystemError('GPU no encontrada')\n",
        "print('Encontrada GPU: {}'.format(device_name))"
      ],
      "metadata": {
        "colab": {
          "base_uri": "https://localhost:8080/",
          "height": 227
        },
        "id": "T0yXupZxdWHo",
        "outputId": "437aa97f-59c4-47df-f49b-d66690dc2a60"
      },
      "execution_count": 38,
      "outputs": [
        {
          "output_type": "error",
          "ename": "SystemError",
          "evalue": "ignored",
          "traceback": [
            "\u001b[0;31m---------------------------------------------------------------------------\u001b[0m",
            "\u001b[0;31mSystemError\u001b[0m                               Traceback (most recent call last)",
            "\u001b[0;32m<ipython-input-38-fc7fd330d828>\u001b[0m in \u001b[0;36m<cell line: 3>\u001b[0;34m()\u001b[0m\n\u001b[1;32m      2\u001b[0m \u001b[0mdevice_name\u001b[0m \u001b[0;34m=\u001b[0m \u001b[0mtf\u001b[0m\u001b[0;34m.\u001b[0m\u001b[0mtest\u001b[0m\u001b[0;34m.\u001b[0m\u001b[0mgpu_device_name\u001b[0m\u001b[0;34m(\u001b[0m\u001b[0;34m)\u001b[0m\u001b[0;34m\u001b[0m\u001b[0;34m\u001b[0m\u001b[0m\n\u001b[1;32m      3\u001b[0m \u001b[0;32mif\u001b[0m \u001b[0mdevice_name\u001b[0m \u001b[0;34m!=\u001b[0m \u001b[0;34m'/device:GPU:0'\u001b[0m\u001b[0;34m:\u001b[0m\u001b[0;34m\u001b[0m\u001b[0;34m\u001b[0m\u001b[0m\n\u001b[0;32m----> 4\u001b[0;31m   \u001b[0;32mraise\u001b[0m \u001b[0mSystemError\u001b[0m\u001b[0;34m(\u001b[0m\u001b[0;34m'GPU no encontrada'\u001b[0m\u001b[0;34m)\u001b[0m\u001b[0;34m\u001b[0m\u001b[0;34m\u001b[0m\u001b[0m\n\u001b[0m\u001b[1;32m      5\u001b[0m \u001b[0mprint\u001b[0m\u001b[0;34m(\u001b[0m\u001b[0;34m'Encontrada GPU: {}'\u001b[0m\u001b[0;34m.\u001b[0m\u001b[0mformat\u001b[0m\u001b[0;34m(\u001b[0m\u001b[0mdevice_name\u001b[0m\u001b[0;34m)\u001b[0m\u001b[0;34m)\u001b[0m\u001b[0;34m\u001b[0m\u001b[0;34m\u001b[0m\u001b[0m\n",
            "\u001b[0;31mSystemError\u001b[0m: GPU no encontrada"
          ]
        }
      ]
    },
    {
      "cell_type": "markdown",
      "source": [
        " Markdown como lenguaje de marcado   \n",
        ""
      ],
      "metadata": {
        "id": "WFqaH3IJeKKI"
      }
    },
    {
      "cell_type": "markdown",
      "source": [],
      "metadata": {
        "id": "pw_S-U1mfT6M"
      }
    },
    {
      "cell_type": "code",
      "source": [],
      "metadata": {
        "id": "Yhh7zEOzfVgW"
      },
      "execution_count": null,
      "outputs": []
    }
  ]
}